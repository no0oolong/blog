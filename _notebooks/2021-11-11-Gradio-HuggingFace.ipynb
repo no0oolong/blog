{
 "cells": [
  {
   "cell_type": "markdown",
   "id": "917f53b1-29ae-475a-aad2-73b0a68b515f",
   "metadata": {
    "tags": []
   },
   "source": [
    "\n",
    "# \"Gradio + HuggingFace Spaces: A Tutorial\"\n",
    "> \"Learn about easy ML app development\"\n",
    "\n",
    "- toc: false\n",
    "- branch: master\n",
    "- badges: true\n",
    "- comments: true\n",
    "- categories: [deep learning]\n",
    "- hide: true\n",
    "- permalink: /gradio_hf_spaces_tutorial"
   ]
  },
  {
   "cell_type": "markdown",
   "id": "d745f88d",
   "metadata": {},
   "source": [
    "# Introduction\n",
    "\n",
    "After you train a machine learning model, the next thing to do is showcase it to the world by making a demo. Currently, the easiest way to do so if with Gradio, hosting on HuggingFace Spaces. With the Gradio framework deployed on Spaces, it takes <10 minutes to deploy a model! Let's see how we can easily deploy a model for the world to try out with these platforms. We will use a classic CNN pet classifier as an example.\n",
    "\n",
    "# Preliminaries: Training a pet classifier\n",
    "Before we make a demo, we need to have a model to actually demo! Let's quickly train a simple ResNet50 pet classifier on the Oxford Pets dataset using fastai."
   ]
  },
  {
   "cell_type": "code",
   "execution_count": 1,
   "id": "1d9d755d-56f3-4578-a14a-b0a787a32a7d",
   "metadata": {},
   "outputs": [
    {
     "data": {
      "text/html": [
       "\n",
       "    <div>\n",
       "        <style>\n",
       "            /* Turns off some styling */\n",
       "            progress {\n",
       "                /* gets rid of default border in Firefox and Opera. */\n",
       "                border: none;\n",
       "                /* Needs to be in here for Safari polyfill so background images work as expected. */\n",
       "                background-size: auto;\n",
       "            }\n",
       "            .progress-bar-interrupted, .progress-bar-interrupted::-webkit-progress-bar {\n",
       "                background: #F44336;\n",
       "            }\n",
       "        </style>\n",
       "      <progress value='811712512' class='' max='811706944' style='width:300px; height:20px; vertical-align: middle;'></progress>\n",
       "      100.00% [811712512/811706944 00:18<00:00]\n",
       "    </div>\n",
       "    "
      ],
      "text/plain": [
       "<IPython.core.display.HTML object>"
      ]
     },
     "metadata": {},
     "output_type": "display_data"
    },
    {
     "name": "stderr",
     "output_type": "stream",
     "text": [
      "/opt/conda/envs/spell/lib/python3.9/site-packages/torch/_tensor.py:1051: UserWarning: torch.solve is deprecated in favor of torch.linalg.solveand will be removed in a future PyTorch release.\n",
      "torch.linalg.solve has its arguments reversed and does not return the LU factorization.\n",
      "To get the LU factorization see torch.lu, which can be used with torch.lu_solve or torch.lu_unpack.\n",
      "X = torch.solve(B, A).solution\n",
      "should be replaced with\n",
      "X = torch.linalg.solve(A, B) (Triggered internally at  /opt/conda/conda-bld/pytorch_1634272204863/work/aten/src/ATen/native/BatchLinearAlgebra.cpp:766.)\n",
      "  ret = func(*args, **kwargs)\n",
      "Downloading: \"https://download.pytorch.org/models/resnet50-0676ba61.pth\" to /root/.cache/torch/hub/checkpoints/resnet50-0676ba61.pth\n"
     ]
    },
    {
     "data": {
      "application/vnd.jupyter.widget-view+json": {
       "model_id": "240848dcca824a32b81cc0f68dd252c3",
       "version_major": 2,
       "version_minor": 0
      },
      "text/plain": [
       "  0%|          | 0.00/97.8M [00:00<?, ?B/s]"
      ]
     },
     "metadata": {},
     "output_type": "display_data"
    },
    {
     "data": {
      "text/html": [
       "<table border=\"1\" class=\"dataframe\">\n",
       "  <thead>\n",
       "    <tr style=\"text-align: left;\">\n",
       "      <th>epoch</th>\n",
       "      <th>train_loss</th>\n",
       "      <th>valid_loss</th>\n",
       "      <th>accuracy</th>\n",
       "      <th>time</th>\n",
       "    </tr>\n",
       "  </thead>\n",
       "  <tbody>\n",
       "    <tr>\n",
       "      <td>0</td>\n",
       "      <td>0.952666</td>\n",
       "      <td>0.269118</td>\n",
       "      <td>0.903924</td>\n",
       "      <td>02:20</td>\n",
       "    </tr>\n",
       "  </tbody>\n",
       "</table>"
      ],
      "text/plain": [
       "<IPython.core.display.HTML object>"
      ]
     },
     "metadata": {},
     "output_type": "display_data"
    },
    {
     "data": {
      "text/html": [
       "<table border=\"1\" class=\"dataframe\">\n",
       "  <thead>\n",
       "    <tr style=\"text-align: left;\">\n",
       "      <th>epoch</th>\n",
       "      <th>train_loss</th>\n",
       "      <th>valid_loss</th>\n",
       "      <th>accuracy</th>\n",
       "      <th>time</th>\n",
       "    </tr>\n",
       "  </thead>\n",
       "  <tbody>\n",
       "    <tr>\n",
       "      <td>0</td>\n",
       "      <td>0.427775</td>\n",
       "      <td>0.232428</td>\n",
       "      <td>0.928958</td>\n",
       "      <td>02:51</td>\n",
       "    </tr>\n",
       "  </tbody>\n",
       "</table>"
      ],
      "text/plain": [
       "<IPython.core.display.HTML object>"
      ]
     },
     "metadata": {},
     "output_type": "display_data"
    }
   ],
   "source": [
    "from fastai.vision.all import *\n",
    "path = untar_data(URLs.PETS)\n",
    "dls = ImageDataLoaders.from_name_re(path, get_image_files(path/'images'), pat='(.+)_\\d+.jpg', item_tfms=Resize(460), batch_tfms=aug_transforms(size=224, min_scale=0.75))\n",
    "learn = cnn_learner(dls, models.resnet50, metrics=accuracy)\n",
    "learn.fine_tune(1)\n",
    "learn.path = Path('.')\n",
    "learn.export()"
   ]
  },
  {
   "cell_type": "markdown",
   "id": "b9ccdfd4-64ab-4bcf-821c-2963411098f1",
   "metadata": {},
   "source": [
    "And with fastai, it's that simple! If you are interested, check out more about fastai, a simple and flexible PyTorch training framework, over [here](https://docs.fast.ai).\n",
    "\n",
    "# Using Gradio\n",
    "\n",
    "Let's see how to make a demo web app with Gradio. First let's load our model:\n"
   ]
  },
  {
   "cell_type": "code",
   "execution_count": 2,
   "id": "35a7b3f3-7c66-4e2c-b0a0-1a6429a71eee",
   "metadata": {},
   "outputs": [],
   "source": [
    "learn = load_learner('export.pkl')"
   ]
  },
  {
   "cell_type": "markdown",
   "id": "85bfb3cc-dd40-45d0-a0f2-f16891156534",
   "metadata": {},
   "source": [
    "Next, let's define a prediction function our model:"
   ]
  },
  {
   "cell_type": "code",
   "execution_count": 3,
   "id": "079ffc04-a87d-4599-b9f9-df6efb39fae6",
   "metadata": {},
   "outputs": [],
   "source": [
    "labels = learn.dls.vocab\n",
    "def predict(img):\n",
    "    img = PILImage.create(img)\n",
    "    pred,pred_idx,probs = learn.predict(img)\n",
    "    return {labels[i]: float(probs[i]) for i in range(len(labels))}"
   ]
  },
  {
   "cell_type": "markdown",
   "id": "d076afad-152a-4e7e-a0ff-1e1f957a2e9a",
   "metadata": {},
   "source": [
    "Finally, let's import Gradio and use it's functionality to make an interface and launch it. Note that if you are doing this from a notebook, the Gradio demo will also show up within the notebook for you to try interactively (here I just show screenshots)."
   ]
  },
  {
   "cell_type": "code",
   "execution_count": 4,
   "id": "82a95244-afb9-4e0b-92bc-a1f3c38da404",
   "metadata": {},
   "outputs": [
    {
     "name": "stdout",
     "output_type": "stream",
     "text": [
      "Running on local URL:  http://127.0.0.1:7860/\n",
      "Running on public URL: https://58742.gradio.app\n",
      "\n",
      "This share link will expire in 72 hours. To get longer links, send an email to: support@gradio.app\n"
     ]
    },
    {
     "data": {
      "text/html": [
       "\n",
       "        <iframe\n",
       "            width=\"900\"\n",
       "            height=\"500\"\n",
       "            src=\"https://58742.gradio.app\"\n",
       "            frameborder=\"0\"\n",
       "            allowfullscreen\n",
       "            \n",
       "        ></iframe>\n",
       "        "
      ],
      "text/plain": [
       "<IPython.lib.display.IFrame at 0x7fb0dc25f2b0>"
      ]
     },
     "metadata": {},
     "output_type": "display_data"
    },
    {
     "data": {
      "text/plain": [
       "(<Flask 'gradio.networking'>,\n",
       " 'http://127.0.0.1:7860/',\n",
       " 'https://58742.gradio.app')"
      ]
     },
     "execution_count": 4,
     "metadata": {},
     "output_type": "execute_result"
    }
   ],
   "source": [
    "#hide_output\n",
    "import gradio as gr\n",
    "gr.Interface(fn=predict, inputs=gr.inputs.Image(shape=(512, 512)), outputs=gr.outputs.Label(num_top_classes=3)).launch(share=True)"
   ]
  },
  {
   "cell_type": "markdown",
   "id": "0e312f2a",
   "metadata": {},
   "source": [
    "```\n",
    "Running on local URL:  http://127.0.0.1:7860/\n",
    "Running on public URL: https://10290.gradio.app\n",
    "\n",
    "This share link will expire in 72 hours. To get longer links, send an email to: support@gradio.app\n",
    "```\n",
    "![](gradio_frame_1.png)\n",
    "```\n",
    "(<Flask 'gradio.networking'>, 'http://127.0.0.1:7860/', 'https://10290.gradio.app')\n",
    "```"
   ]
  },
  {
   "cell_type": "markdown",
   "id": "65b81bb4-d8d4-44d9-8806-c48569e7de7f",
   "metadata": {},
   "source": [
    "That's it! The actual creation of the demo takes one line! {% fn 1 %}\n",
    "\n",
    "All Gradio interfaces are created by constructing a `gradio.Interface()` object. As you can see in this example, the `Interface` object takes in the function that we want to make an interface for (usually an ML model inference function), Gradio input components (the number of input components should match the number of parameters of the provided function), and Gradio output components (the number of output components should match the number of values returned by the provided function). Gradio provides components for various types of input and output types. This includes: images (upload, draw, or webcam), video, audio (upload or microphone), textboxes, dataframes, timeseries, generic files, and more! So you should be able to create a Gradio demo for virtually any type of ML task you can think of!\n",
    "\n",
    "After the `gradio.Interface()` object is defined, the interface is launched with the `launch` method. \n",
    "\n",
    "# Optional: customizing our Gradio app\n",
    "\n",
    "Gradio has lots of features that we can use to customize our app. Let's go over a few of these features and add them to our demo. All of these features are arguments for the instantiation of the `Interface` class.\n",
    "\n",
    "First of all, we can pass in a title and description for our app which goes at the top before our input and output components:"
   ]
  },
  {
   "cell_type": "code",
   "execution_count": 5,
   "id": "52e1096f-0bfa-4aab-b4b9-5c126cd2344c",
   "metadata": {},
   "outputs": [],
   "source": [
    "title = \"Pet Breed Classifier\"\n",
    "description = \"A pet breed classifier trained on the Oxford Pets dataset with fastai. Created as a demo for Gradio and HuggingFace Spaces.\""
   ]
  },
  {
   "cell_type": "markdown",
   "id": "6faf636a-08ed-4d0b-8db5-f15a3af47e7f",
   "metadata": {},
   "source": [
    "We can also put a link at the bottom of our demo. Here I will link to this blog post:"
   ]
  },
  {
   "cell_type": "code",
   "execution_count": 6,
   "id": "5669c0d2-d588-4a46-9a81-65d8adffab54",
   "metadata": {},
   "outputs": [],
   "source": [
    "article=\"<p style='text-align: center'><a href='https://tmabraham.github.io/blog/gradio_hf_spaces_tutorial' target='_blank'>Blog post</a></p>\""
   ]
  },
  {
   "cell_type": "markdown",
   "id": "aedcef4d-1e6b-4d7f-bbc5-268ea816e9af",
   "metadata": {},
   "source": [
    "We can also provide some example inputs that people can try out. Here I have provided an example Siamese cat image, which is in the same directory as my code:"
   ]
  },
  {
   "cell_type": "code",
   "execution_count": 7,
   "id": "de1b6b39-ad87-4658-9087-297ef2d67c0c",
   "metadata": {},
   "outputs": [],
   "source": [
    "examples = ['siamese.jpg']"
   ]
  },
  {
   "cell_type": "markdown",
   "id": "5834bd5e-0201-4b6f-bde3-6aed15cdb205",
   "metadata": {},
   "source": [
    "Another interesting feature that Gradio has is the ability for interpretation so that users can understand what parts of the input are responsible for the output. We'll use the default interpretation function provided by Gradio but you can use your own as well:"
   ]
  },
  {
   "cell_type": "code",
   "execution_count": 8,
   "id": "26af1ccc-345d-42c3-b632-15f559ebf561",
   "metadata": {},
   "outputs": [],
   "source": [
    "interpretation='default'"
   ]
  },
  {
   "cell_type": "markdown",
   "id": "796f6e59-6aa9-49bb-bd9c-2cdcba7f9be4",
   "metadata": {},
   "source": [
    "Note that the default interpretation function needs `scikit-image` to be installed. More information on the interpretation feature is provided [here](https://gradio.app/advanced_features/). \n",
    "\n",
    "Gradio also provides a screenshotting feature that can make it really easy to share your examples and results with others. It is enabled by default.\n",
    "\n",
    "Finally, Gradio also supports serving of inference requests with a queue. This can be helpful when your app receives a significant amount of traffic. We'll enable a queue here:"
   ]
  },
  {
   "cell_type": "code",
   "execution_count": 9,
   "id": "66b253f5-8d16-4667-9147-9ab0fa746445",
   "metadata": {},
   "outputs": [],
   "source": [
    "enable_queue=True"
   ]
  },
  {
   "cell_type": "markdown",
   "id": "9a8e09df-3f78-497d-bc90-191586cfe72f",
   "metadata": {},
   "source": [
    "You can also add custom CSS for your Gradio app but we'll not do that here (my CSS skills are essentially non-existent! 😂).\n",
    "\n",
    "Let's put it all together and make our interface with these additional features:"
   ]
  },
  {
   "cell_type": "code",
   "execution_count": 10,
   "id": "feb4710b-fa55-4e18-84c9-b8d2d9cca7e3",
   "metadata": {},
   "outputs": [
    {
     "name": "stdout",
     "output_type": "stream",
     "text": [
      "Running on local URL:  http://127.0.0.1:7861/\n",
      "Running on public URL: https://47258.gradio.app\n",
      "\n",
      "This share link will expire in 72 hours. To get longer links, send an email to: support@gradio.app\n"
     ]
    },
    {
     "data": {
      "text/html": [
       "\n",
       "        <iframe\n",
       "            width=\"900\"\n",
       "            height=\"500\"\n",
       "            src=\"https://47258.gradio.app\"\n",
       "            frameborder=\"0\"\n",
       "            allowfullscreen\n",
       "            \n",
       "        ></iframe>\n",
       "        "
      ],
      "text/plain": [
       "<IPython.lib.display.IFrame at 0x7fb0dc27e790>"
      ]
     },
     "metadata": {},
     "output_type": "display_data"
    },
    {
     "data": {
      "text/plain": [
       "(<Flask 'gradio.networking'>,\n",
       " 'http://127.0.0.1:7861/',\n",
       " 'https://47258.gradio.app')"
      ]
     },
     "execution_count": 10,
     "metadata": {},
     "output_type": "execute_result"
    }
   ],
   "source": [
    "#hide_output\n",
    "gr.Interface(fn=predict,inputs=gr.inputs.Image(shape=(512, 512)),outputs=gr.outputs.Label(num_top_classes=3),title=title,description=description,article=article,examples=examples,interpretation=interpretation,enable_queue=enable_queue).launch(share=True)"
   ]
  },
  {
   "cell_type": "markdown",
   "id": "79be3892",
   "metadata": {},
   "source": [
    "```\n",
    "Running on local URL:  http://127.0.0.1:7861/\n",
    "Running on public URL: https://30513.gradio.app\n",
    "\n",
    "This share link will expire in 72 hours. To get longer links, send an email to: support@gradio.app\n",
    "```\n",
    "![](gradio_frame_2.png)\n",
    "```\n",
    "(<Flask 'gradio.networking'>,\n",
    " 'http://127.0.0.1:7861/',\n",
    " 'https://30513.gradio.app')\n",
    "```"
   ]
  },
  {
   "attachments": {},
   "cell_type": "markdown",
   "id": "0f83f512-ffae-4224-bd29-e85acb0ac96f",
   "metadata": {},
   "source": [
    "Check the Gradio [documentation](https://gradio.app/docs) for more information on how to customize your interface.\n",
    "\n",
    "Let's put it all into one file which we name `app.py`:\n",
    "```python\n",
    "import gradio as gr\n",
    "from fastai.vision.all import *\n",
    "import skimage\n",
    "\n",
    "learn = load_learner('export.pkl')\n",
    "\n",
    "labels = learn.dls.vocab\n",
    "def predict(img):\n",
    "    img = PILImage.create(img)\n",
    "    pred,pred_idx,probs = learn.predict(img)\n",
    "    return {labels[i]: float(probs[i]) for i in range(len(labels))}\n",
    "\n",
    "title = \"Pet Breed Classifier\"\n",
    "description = \"A pet breed classifier trained on the Oxford Pets dataset with fastai. Created as a demo for Gradio and HuggingFace Spaces.\"\n",
    "article=\"<p style='text-align: center'><a href='https://tmabraham.github.io/blog/gradio_hf_spaces_tutorial' target='_blank'>Blog post</a></p>\"\n",
    "examples = ['siamese.jpg']\n",
    "interpretation='default'\n",
    "enable_queue=True\n",
    "\n",
    "gr.Interface(fn=predict,inputs=gr.inputs.Image(shape=(512, 512)),outputs=gr.outputs.Label(num_top_classes=3),title=title,description=description,article=article,examples=examples,interpretation=interpretation,enable_queue=enable_queue).launch()\n",
    "```\n",
    "\n",
    "Let's also make a `requirements.txt` file which will allow us to install the packages that we need in whatever environment we need:\n",
    "```\n",
    "fastai\n",
    "scikit-image\n",
    "```\n",
    "\n",
    "Now that we have our self-contained web app, we could deploy this on any  webserver or cloud platform that we want. But let's see how we can use HuggingFace Spaces to deploy it.\n",
    "\n",
    "\n",
    "\n",
    "# Using HuggingFace Spaces\n",
    "\n",
    "[HuggingFace Spaces](https://huggingface.co/spaces) is a free-to-use platform for hosting machine learning demos and apps. The Spaces environment provided is a CPU environment with 16 GB RAM and 8 cores. It currently supports the Gradio and Streamlit platforms. Here we will make a Space for our Gradio demo.\n",
    "\n",
    "In order to be able to create a HuggingFace Space, you need to have a HuggingFace account. You can sign up for free [here](https://huggingface.co/join). After signing up, you can create a Space by clicking \"New Space\" on the navigation menu (press on your profile image).\n",
    "\n",
    "![](create_spaces.png)\n",
    "\n",
    "\n",
    "Now you will be shown instructions on how to add your code to this Space from the command line to prepare the demo. Spaces are essentially git repositories (like GitHub) with an `app.py` file from which the demo is prepared. \n",
    "\n",
    "So we can clone the repository to a local directory, \n",
    "```\n",
    "git clone https://huggingface.co/spaces/tmabraham/fastai_pet_classifier\n",
    "```\n",
    "add the `app.py`, `requirements.txt`, `export.pkl`, and `siamese.jpg` files,\n",
    "```\n",
    "cp app.py fastai_pet_classifier/app.py\n",
    "cp requirements.txt fastai_pet_classifier/requirements.txt\n",
    "cp export.pkl fastai_pet_classifier/export.pkl\n",
    "cp siamese.jpg fastai_pet_classifier/siamese.jpg\n",
    "```\n",
    "\n",
    "Now before we commit our files, there is something we need to pay attention to. Our model file `export.pkl` is too big to be handled by `git`. So instead we need to use git-lfs. You will need to install [git-lfs](https://git-lfs.github.com) and then initialize git-lfs in the repository for the app in the following way:\n",
    "\n",
    "```\n",
    "git lfs install\n",
    "git lfs track \"*.pkl\"\n",
    "git add .gitattributes\n",
    "git commit -m \"update .gitattributes so git lfs will track .pkl files\"\n",
    "```\n",
    "\n",
    "Now, we can commit and push the changes to the Space.\n",
    "```\n",
    "git commit -am \"let's deploy to huggingface spaces\"\n",
    "git push\n",
    "```\n",
    "\n",
    "**Alternatively**, the files can be uploaded via the Spaces UI. When you go to your Space, under \"Files and versions\", there is an \"Add files\" button which you can use to upload your app files.\n",
    "\n",
    "After a few moments, during which the app is being built, our demo should show up on the HuggingFace Space. [Here](https://huggingface.co/spaces/tmabraham/fastai_pet_classifier) is mine.\n",
    "\n",
    "That's it! In a few minutes, you trained a pet classifier model with fastai, made a demo interface with Gradio, and hosted it for free on a HuggingFace Space! \n",
    "\n",
    "For more information, check the relevant docs. There are so many features of Gradio and Spaces that I haven't mentioned here (like API support{% fn 2 %}, multiple models per demo, etc.). Additionally, both Gradio and HuggingFace Spaces are in active development that I bet this post will be out-of-date in a few weeks as it will be missing some of the new, amazing features the Gradio and HuggingFace teams add. For this reason, I also recommend following [HuggingFace](https://twitter.com/huggingface) and [Gradio](https://twitter.com/gradio) on Twitter to hear about the latest updates and newest features.\n",
    "\n",
    "I'll end by sharing a quick example prediction by my pet classifier of our kitten!:\n",
    "\n",
    "![](gradio_mimi.png)"
   ]
  },
  {
   "cell_type": "markdown",
   "id": "a55b1bfe",
   "metadata": {},
   "source": [
    "# Footnotes\n",
    "\n",
    "{{ 'One of the developers of Gradio created a simple Python module to easily create Gradio demos for fastai `Learner` objects. Check it out [here](https://github.com/aliabd/fastgradio). It currently only supports image-to-label interfaces but it could likely be expanded to other tasks fairly easily.'  | fndetail: 1 }}\n",
    "\n",
    "{{As of the time of this blog post, the API feature of Gradio doesn't work for demos hosted on HuggingFace Spaces | fndetail: 2}}"
   ]
  }
 ],
 "metadata": {
  "kernelspec": {
   "display_name": "Python 3",
   "language": "python",
   "name": "python3"
  },
  "language_info": {
   "codemirror_mode": {
    "name": "ipython",
    "version": 3
   },
   "file_extension": ".py",
   "mimetype": "text/x-python",
   "name": "python",
   "nbconvert_exporter": "python",
   "pygments_lexer": "ipython3",
   "version": "3.6.9"
  }
 },
 "nbformat": 4,
 "nbformat_minor": 5
}
